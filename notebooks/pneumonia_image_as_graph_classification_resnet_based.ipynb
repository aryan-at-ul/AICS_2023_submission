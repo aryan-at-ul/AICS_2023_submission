{
  "nbformat": 4,
  "nbformat_minor": 0,
  "metadata": {
    "colab": {
      "provenance": []
    },
    "kernelspec": {
      "name": "python3",
      "display_name": "Python 3"
    },
    "language_info": {
      "name": "python"
    },
    "accelerator": "GPU",
    "gpuClass": "standard"
  },
  "cells": [
    {
      "cell_type": "code",
      "execution_count": null,
      "metadata": {
        "id": "v4TWA3mGD1S4",
        "colab": {
          "base_uri": "https://localhost:8080/",
          "height": 1000
        },
        "outputId": "a0b61e89-8beb-4174-f275-c8c4f4e8bae2"
      },
      "outputs": [
        {
          "output_type": "stream",
          "name": "stdout",
          "text": [
            "Looking in indexes: https://pypi.org/simple, https://us-python.pkg.dev/colab-wheels/public/simple/\n",
            "Collecting imageio==2.22.4\n",
            "  Downloading imageio-2.22.4-py3-none-any.whl (3.4 MB)\n",
            "\u001b[2K     \u001b[90m━━━━━━━━━━━━━━━━━━━━━━━━━━━━━━━━━━━━━━━━\u001b[0m \u001b[32m3.4/3.4 MB\u001b[0m \u001b[31m33.5 MB/s\u001b[0m eta \u001b[36m0:00:00\u001b[0m\n",
            "\u001b[?25hRequirement already satisfied: numpy in /usr/local/lib/python3.8/dist-packages (from imageio==2.22.4) (1.21.6)\n",
            "Collecting pillow>=8.3.2\n",
            "  Downloading Pillow-9.4.0-cp38-cp38-manylinux_2_17_x86_64.manylinux2014_x86_64.whl (3.3 MB)\n",
            "\u001b[2K     \u001b[90m━━━━━━━━━━━━━━━━━━━━━━━━━━━━━━━━━━━━━━━━\u001b[0m \u001b[32m3.3/3.3 MB\u001b[0m \u001b[31m33.4 MB/s\u001b[0m eta \u001b[36m0:00:00\u001b[0m\n",
            "\u001b[?25hInstalling collected packages: pillow, imageio\n",
            "  Attempting uninstall: pillow\n",
            "    Found existing installation: Pillow 7.1.2\n",
            "    Uninstalling Pillow-7.1.2:\n",
            "      Successfully uninstalled Pillow-7.1.2\n",
            "  Attempting uninstall: imageio\n",
            "    Found existing installation: imageio 2.9.0\n",
            "    Uninstalling imageio-2.9.0:\n",
            "      Successfully uninstalled imageio-2.9.0\n",
            "Successfully installed imageio-2.22.4 pillow-9.4.0\n"
          ]
        },
        {
          "output_type": "display_data",
          "data": {
            "application/vnd.colab-display-data+json": {
              "pip_warning": {
                "packages": [
                  "PIL"
                ]
              }
            }
          },
          "metadata": {}
        },
        {
          "output_type": "stream",
          "name": "stdout",
          "text": [
            "Looking in indexes: https://pypi.org/simple, https://us-python.pkg.dev/colab-wheels/public/simple/\n",
            "Requirement already satisfied: llvmlite==0.39.1 in /usr/local/lib/python3.8/dist-packages (0.39.1)\n",
            "Looking in indexes: https://pypi.org/simple, https://us-python.pkg.dev/colab-wheels/public/simple/\n",
            "Collecting matplotlib==3.1.3\n",
            "  Downloading matplotlib-3.1.3-cp38-cp38-manylinux1_x86_64.whl (13.1 MB)\n",
            "\u001b[2K     \u001b[90m━━━━━━━━━━━━━━━━━━━━━━━━━━━━━━━━━━━━━━━━\u001b[0m \u001b[32m13.1/13.1 MB\u001b[0m \u001b[31m42.3 MB/s\u001b[0m eta \u001b[36m0:00:00\u001b[0m\n",
            "\u001b[?25hRequirement already satisfied: python-dateutil>=2.1 in /usr/local/lib/python3.8/dist-packages (from matplotlib==3.1.3) (2.8.2)\n",
            "Requirement already satisfied: numpy>=1.11 in /usr/local/lib/python3.8/dist-packages (from matplotlib==3.1.3) (1.21.6)\n",
            "Requirement already satisfied: cycler>=0.10 in /usr/local/lib/python3.8/dist-packages (from matplotlib==3.1.3) (0.11.0)\n",
            "Requirement already satisfied: pyparsing!=2.0.4,!=2.1.2,!=2.1.6,>=2.0.1 in /usr/local/lib/python3.8/dist-packages (from matplotlib==3.1.3) (3.0.9)\n",
            "Requirement already satisfied: kiwisolver>=1.0.1 in /usr/local/lib/python3.8/dist-packages (from matplotlib==3.1.3) (1.4.4)\n",
            "Requirement already satisfied: six>=1.5 in /usr/local/lib/python3.8/dist-packages (from python-dateutil>=2.1->matplotlib==3.1.3) (1.15.0)\n",
            "Installing collected packages: matplotlib\n",
            "  Attempting uninstall: matplotlib\n",
            "    Found existing installation: matplotlib 3.2.2\n",
            "    Uninstalling matplotlib-3.2.2:\n",
            "      Successfully uninstalled matplotlib-3.2.2\n",
            "Successfully installed matplotlib-3.1.3\n"
          ]
        },
        {
          "output_type": "display_data",
          "data": {
            "application/vnd.colab-display-data+json": {
              "pip_warning": {
                "packages": [
                  "matplotlib",
                  "mpl_toolkits"
                ]
              }
            }
          },
          "metadata": {}
        },
        {
          "output_type": "stream",
          "name": "stdout",
          "text": [
            "Looking in indexes: https://pypi.org/simple, https://us-python.pkg.dev/colab-wheels/public/simple/\n",
            "Requirement already satisfied: networkx==2.8.8 in /usr/local/lib/python3.8/dist-packages (2.8.8)\n",
            "Looking in indexes: https://pypi.org/simple, https://us-python.pkg.dev/colab-wheels/public/simple/\n",
            "Requirement already satisfied: numba==0.56.4 in /usr/local/lib/python3.8/dist-packages (0.56.4)\n",
            "Requirement already satisfied: setuptools in /usr/local/lib/python3.8/dist-packages (from numba==0.56.4) (57.4.0)\n",
            "Requirement already satisfied: numpy<1.24,>=1.18 in /usr/local/lib/python3.8/dist-packages (from numba==0.56.4) (1.21.6)\n",
            "Requirement already satisfied: llvmlite<0.40,>=0.39.0dev0 in /usr/local/lib/python3.8/dist-packages (from numba==0.56.4) (0.39.1)\n",
            "Requirement already satisfied: importlib-metadata in /usr/local/lib/python3.8/dist-packages (from numba==0.56.4) (6.0.0)\n",
            "Requirement already satisfied: zipp>=0.5 in /usr/local/lib/python3.8/dist-packages (from importlib-metadata->numba==0.56.4) (3.11.0)\n",
            "Looking in indexes: https://pypi.org/simple, https://us-python.pkg.dev/colab-wheels/public/simple/\n",
            "Requirement already satisfied: numpy in /usr/local/lib/python3.8/dist-packages (1.21.6)\n",
            "Looking in indexes: https://pypi.org/simple, https://us-python.pkg.dev/colab-wheels/public/simple/\n",
            "Requirement already satisfied: opencv-python==4.6.0.66 in /usr/local/lib/python3.8/dist-packages (4.6.0.66)\n",
            "Requirement already satisfied: numpy>=1.14.5 in /usr/local/lib/python3.8/dist-packages (from opencv-python==4.6.0.66) (1.21.6)\n",
            "Looking in indexes: https://pypi.org/simple, https://us-python.pkg.dev/colab-wheels/public/simple/\n",
            "Collecting psutil==5.9.4\n",
            "  Downloading psutil-5.9.4-cp36-abi3-manylinux_2_12_x86_64.manylinux2010_x86_64.manylinux_2_17_x86_64.manylinux2014_x86_64.whl (280 kB)\n",
            "\u001b[2K     \u001b[90m━━━━━━━━━━━━━━━━━━━━━━━━━━━━━━━━━━━━━━\u001b[0m \u001b[32m280.2/280.2 KB\u001b[0m \u001b[31m19.9 MB/s\u001b[0m eta \u001b[36m0:00:00\u001b[0m\n",
            "\u001b[?25hInstalling collected packages: psutil\n",
            "  Attempting uninstall: psutil\n",
            "    Found existing installation: psutil 5.4.8\n",
            "    Uninstalling psutil-5.4.8:\n",
            "      Successfully uninstalled psutil-5.4.8\n",
            "Successfully installed psutil-5.9.4\n"
          ]
        },
        {
          "output_type": "display_data",
          "data": {
            "application/vnd.colab-display-data+json": {
              "pip_warning": {
                "packages": [
                  "psutil"
                ]
              }
            }
          },
          "metadata": {}
        },
        {
          "output_type": "stream",
          "name": "stdout",
          "text": [
            "Looking in indexes: https://pypi.org/simple, https://us-python.pkg.dev/colab-wheels/public/simple/\n",
            "Collecting pytz==2022.6\n",
            "  Downloading pytz-2022.6-py2.py3-none-any.whl (498 kB)\n",
            "\u001b[2K     \u001b[90m━━━━━━━━━━━━━━━━━━━━━━━━━━━━━━━━━━━━━━\u001b[0m \u001b[32m498.1/498.1 KB\u001b[0m \u001b[31m29.1 MB/s\u001b[0m eta \u001b[36m0:00:00\u001b[0m\n",
            "\u001b[?25hInstalling collected packages: pytz\n",
            "  Attempting uninstall: pytz\n",
            "    Found existing installation: pytz 2022.7\n",
            "    Uninstalling pytz-2022.7:\n",
            "      Successfully uninstalled pytz-2022.7\n",
            "Successfully installed pytz-2022.6\n",
            "Looking in indexes: https://pypi.org/simple, https://us-python.pkg.dev/colab-wheels/public/simple/\n",
            "Collecting scikit-image==0.19.3\n",
            "  Downloading scikit_image-0.19.3-cp38-cp38-manylinux_2_17_x86_64.manylinux2014_x86_64.whl (14.0 MB)\n",
            "\u001b[2K     \u001b[90m━━━━━━━━━━━━━━━━━━━━━━━━━━━━━━━━━━━━━━━━\u001b[0m \u001b[32m14.0/14.0 MB\u001b[0m \u001b[31m98.3 MB/s\u001b[0m eta \u001b[36m0:00:00\u001b[0m\n",
            "\u001b[?25hRequirement already satisfied: networkx>=2.2 in /usr/local/lib/python3.8/dist-packages (from scikit-image==0.19.3) (2.8.8)\n",
            "Requirement already satisfied: scipy>=1.4.1 in /usr/local/lib/python3.8/dist-packages (from scikit-image==0.19.3) (1.7.3)\n",
            "Requirement already satisfied: numpy>=1.17.0 in /usr/local/lib/python3.8/dist-packages (from scikit-image==0.19.3) (1.21.6)\n",
            "Requirement already satisfied: tifffile>=2019.7.26 in /usr/local/lib/python3.8/dist-packages (from scikit-image==0.19.3) (2022.10.10)\n",
            "Requirement already satisfied: packaging>=20.0 in /usr/local/lib/python3.8/dist-packages (from scikit-image==0.19.3) (21.3)\n",
            "Requirement already satisfied: imageio>=2.4.1 in /usr/local/lib/python3.8/dist-packages (from scikit-image==0.19.3) (2.22.4)\n",
            "Requirement already satisfied: PyWavelets>=1.1.1 in /usr/local/lib/python3.8/dist-packages (from scikit-image==0.19.3) (1.4.1)\n",
            "Requirement already satisfied: pillow!=7.1.0,!=7.1.1,!=8.3.0,>=6.1.0 in /usr/local/lib/python3.8/dist-packages (from scikit-image==0.19.3) (9.4.0)\n",
            "Requirement already satisfied: pyparsing!=3.0.5,>=2.0.2 in /usr/local/lib/python3.8/dist-packages (from packaging>=20.0->scikit-image==0.19.3) (3.0.9)\n",
            "Installing collected packages: scikit-image\n",
            "  Attempting uninstall: scikit-image\n",
            "    Found existing installation: scikit-image 0.18.3\n",
            "    Uninstalling scikit-image-0.18.3:\n",
            "      Successfully uninstalled scikit-image-0.18.3\n",
            "Successfully installed scikit-image-0.19.3\n",
            "Looking in indexes: https://pypi.org/simple, https://us-python.pkg.dev/colab-wheels/public/simple/\n",
            "Requirement already satisfied: scipy in /usr/local/lib/python3.8/dist-packages (1.7.3)\n",
            "Requirement already satisfied: numpy<1.23.0,>=1.16.5 in /usr/local/lib/python3.8/dist-packages (from scipy) (1.21.6)\n",
            "Looking in indexes: https://pypi.org/simple, https://us-python.pkg.dev/colab-wheels/public/simple/\n",
            "Collecting timm==0.6.12\n",
            "  Downloading timm-0.6.12-py3-none-any.whl (549 kB)\n",
            "\u001b[2K     \u001b[90m━━━━━━━━━━━━━━━━━━━━━━━━━━━━━━━━━━━━━━\u001b[0m \u001b[32m549.1/549.1 KB\u001b[0m \u001b[31m38.9 MB/s\u001b[0m eta \u001b[36m0:00:00\u001b[0m\n",
            "\u001b[?25hCollecting huggingface-hub\n",
            "  Downloading huggingface_hub-0.11.1-py3-none-any.whl (182 kB)\n",
            "\u001b[2K     \u001b[90m━━━━━━━━━━━━━━━━━━━━━━━━━━━━━━━━━━━━━━\u001b[0m \u001b[32m182.4/182.4 KB\u001b[0m \u001b[31m24.6 MB/s\u001b[0m eta \u001b[36m0:00:00\u001b[0m\n",
            "\u001b[?25hRequirement already satisfied: torch>=1.7 in /usr/local/lib/python3.8/dist-packages (from timm==0.6.12) (1.13.0+cu116)\n",
            "Requirement already satisfied: torchvision in /usr/local/lib/python3.8/dist-packages (from timm==0.6.12) (0.14.0+cu116)\n",
            "Requirement already satisfied: pyyaml in /usr/local/lib/python3.8/dist-packages (from timm==0.6.12) (6.0)\n",
            "Requirement already satisfied: typing-extensions in /usr/local/lib/python3.8/dist-packages (from torch>=1.7->timm==0.6.12) (4.4.0)\n",
            "Requirement already satisfied: packaging>=20.9 in /usr/local/lib/python3.8/dist-packages (from huggingface-hub->timm==0.6.12) (21.3)\n",
            "Requirement already satisfied: requests in /usr/local/lib/python3.8/dist-packages (from huggingface-hub->timm==0.6.12) (2.25.1)\n",
            "Requirement already satisfied: filelock in /usr/local/lib/python3.8/dist-packages (from huggingface-hub->timm==0.6.12) (3.9.0)\n",
            "Requirement already satisfied: tqdm in /usr/local/lib/python3.8/dist-packages (from huggingface-hub->timm==0.6.12) (4.64.1)\n",
            "Requirement already satisfied: numpy in /usr/local/lib/python3.8/dist-packages (from torchvision->timm==0.6.12) (1.21.6)\n",
            "Requirement already satisfied: pillow!=8.3.*,>=5.3.0 in /usr/local/lib/python3.8/dist-packages (from torchvision->timm==0.6.12) (9.4.0)\n",
            "Requirement already satisfied: pyparsing!=3.0.5,>=2.0.2 in /usr/local/lib/python3.8/dist-packages (from packaging>=20.9->huggingface-hub->timm==0.6.12) (3.0.9)\n",
            "Requirement already satisfied: certifi>=2017.4.17 in /usr/local/lib/python3.8/dist-packages (from requests->huggingface-hub->timm==0.6.12) (2022.12.7)\n",
            "Requirement already satisfied: idna<3,>=2.5 in /usr/local/lib/python3.8/dist-packages (from requests->huggingface-hub->timm==0.6.12) (2.10)\n",
            "Requirement already satisfied: urllib3<1.27,>=1.21.1 in /usr/local/lib/python3.8/dist-packages (from requests->huggingface-hub->timm==0.6.12) (1.24.3)\n",
            "Requirement already satisfied: chardet<5,>=3.0.2 in /usr/local/lib/python3.8/dist-packages (from requests->huggingface-hub->timm==0.6.12) (4.0.0)\n",
            "Installing collected packages: huggingface-hub, timm\n",
            "Successfully installed huggingface-hub-0.11.1 timm-0.6.12\n",
            "Looking in indexes: https://pypi.org/simple, https://us-python.pkg.dev/colab-wheels/public/simple/\n",
            "Requirement already satisfied: torch==1.13.0 in /usr/local/lib/python3.8/dist-packages (1.13.0+cu116)\n",
            "Requirement already satisfied: typing-extensions in /usr/local/lib/python3.8/dist-packages (from torch==1.13.0) (4.4.0)\n",
            "Looking in indexes: https://pypi.org/simple, https://us-python.pkg.dev/colab-wheels/public/simple/\n",
            "Collecting torchinfo==1.7.1\n",
            "  Downloading torchinfo-1.7.1-py3-none-any.whl (22 kB)\n",
            "Installing collected packages: torchinfo\n",
            "Successfully installed torchinfo-1.7.1\n",
            "Looking in indexes: https://pypi.org/simple, https://us-python.pkg.dev/colab-wheels/public/simple/\n",
            "Requirement already satisfied: torchvision==0.14.0 in /usr/local/lib/python3.8/dist-packages (0.14.0+cu116)\n",
            "Requirement already satisfied: typing-extensions in /usr/local/lib/python3.8/dist-packages (from torchvision==0.14.0) (4.4.0)\n",
            "Requirement already satisfied: torch==1.13.0 in /usr/local/lib/python3.8/dist-packages (from torchvision==0.14.0) (1.13.0+cu116)\n",
            "Requirement already satisfied: pillow!=8.3.*,>=5.3.0 in /usr/local/lib/python3.8/dist-packages (from torchvision==0.14.0) (9.4.0)\n",
            "Requirement already satisfied: requests in /usr/local/lib/python3.8/dist-packages (from torchvision==0.14.0) (2.25.1)\n",
            "Requirement already satisfied: numpy in /usr/local/lib/python3.8/dist-packages (from torchvision==0.14.0) (1.21.6)\n",
            "Requirement already satisfied: urllib3<1.27,>=1.21.1 in /usr/local/lib/python3.8/dist-packages (from requests->torchvision==0.14.0) (1.24.3)\n",
            "Requirement already satisfied: idna<3,>=2.5 in /usr/local/lib/python3.8/dist-packages (from requests->torchvision==0.14.0) (2.10)\n",
            "Requirement already satisfied: chardet<5,>=3.0.2 in /usr/local/lib/python3.8/dist-packages (from requests->torchvision==0.14.0) (4.0.0)\n",
            "Requirement already satisfied: certifi>=2017.4.17 in /usr/local/lib/python3.8/dist-packages (from requests->torchvision==0.14.0) (2022.12.7)\n",
            "Looking in indexes: https://pypi.org/simple, https://us-python.pkg.dev/colab-wheels/public/simple/\n",
            "Looking in links: https://pytorch-geometric.com/whl/torch-1.13.0+cu116.html\n",
            "Collecting torch-scatter\n",
            "  Downloading https://data.pyg.org/whl/torch-1.13.0%2Bcu116/torch_scatter-2.1.0%2Bpt113cu116-cp38-cp38-linux_x86_64.whl (9.4 MB)\n",
            "\u001b[2K     \u001b[90m━━━━━━━━━━━━━━━━━━━━━━━━━━━━━━━━━━━━━━━━\u001b[0m \u001b[32m9.4/9.4 MB\u001b[0m \u001b[31m100.0 MB/s\u001b[0m eta \u001b[36m0:00:00\u001b[0m\n",
            "\u001b[?25hInstalling collected packages: torch-scatter\n",
            "Successfully installed torch-scatter-2.1.0+pt113cu116\n",
            "Looking in indexes: https://pypi.org/simple, https://us-python.pkg.dev/colab-wheels/public/simple/\n",
            "Looking in links: https://pytorch-geometric.com/whl/torch-1.13.0+cu116.html\n",
            "Collecting torch-sparse\n",
            "  Downloading https://data.pyg.org/whl/torch-1.13.0%2Bcu116/torch_sparse-0.6.16%2Bpt113cu116-cp38-cp38-linux_x86_64.whl (4.5 MB)\n",
            "\u001b[2K     \u001b[90m━━━━━━━━━━━━━━━━━━━━━━━━━━━━━━━━━━━━━━━━\u001b[0m \u001b[32m4.5/4.5 MB\u001b[0m \u001b[31m16.2 MB/s\u001b[0m eta \u001b[36m0:00:00\u001b[0m\n",
            "\u001b[?25hRequirement already satisfied: scipy in /usr/local/lib/python3.8/dist-packages (from torch-sparse) (1.7.3)\n",
            "Requirement already satisfied: numpy<1.23.0,>=1.16.5 in /usr/local/lib/python3.8/dist-packages (from scipy->torch-sparse) (1.21.6)\n",
            "Installing collected packages: torch-sparse\n",
            "Successfully installed torch-sparse-0.6.16+pt113cu116\n",
            "Looking in indexes: https://pypi.org/simple, https://us-python.pkg.dev/colab-wheels/public/simple/\n",
            "Looking in links: https://pytorch-geometric.com/whl/torch-1.13.0+cu116.html\n",
            "Collecting torch-cluster\n",
            "  Downloading https://data.pyg.org/whl/torch-1.13.0%2Bcu116/torch_cluster-1.6.0%2Bpt113cu116-cp38-cp38-linux_x86_64.whl (3.2 MB)\n",
            "\u001b[2K     \u001b[90m━━━━━━━━━━━━━━━━━━━━━━━━━━━━━━━━━━━━━━━━\u001b[0m \u001b[32m3.2/3.2 MB\u001b[0m \u001b[31m70.6 MB/s\u001b[0m eta \u001b[36m0:00:00\u001b[0m\n",
            "\u001b[?25hRequirement already satisfied: scipy in /usr/local/lib/python3.8/dist-packages (from torch-cluster) (1.7.3)\n",
            "Requirement already satisfied: numpy<1.23.0,>=1.16.5 in /usr/local/lib/python3.8/dist-packages (from scipy->torch-cluster) (1.21.6)\n",
            "Installing collected packages: torch-cluster\n",
            "Successfully installed torch-cluster-1.6.0+pt113cu116\n",
            "Looking in indexes: https://pypi.org/simple, https://us-python.pkg.dev/colab-wheels/public/simple/\n",
            "Looking in links: https://pytorch-geometric.com/whl/torch-1.13.0+cu116.html\n",
            "Collecting torch-spline-conv\n",
            "  Downloading https://data.pyg.org/whl/torch-1.13.0%2Bcu116/torch_spline_conv-1.2.1%2Bpt113cu116-cp38-cp38-linux_x86_64.whl (873 kB)\n",
            "\u001b[2K     \u001b[90m━━━━━━━━━━━━━━━━━━━━━━━━━━━━━━━━━━━━━━\u001b[0m \u001b[32m873.9/873.9 KB\u001b[0m \u001b[31m39.1 MB/s\u001b[0m eta \u001b[36m0:00:00\u001b[0m\n",
            "\u001b[?25hInstalling collected packages: torch-spline-conv\n",
            "Successfully installed torch-spline-conv-1.2.1+pt113cu116\n",
            "Looking in indexes: https://pypi.org/simple, https://us-python.pkg.dev/colab-wheels/public/simple/\n",
            "Collecting torch-geometric\n",
            "  Downloading torch_geometric-2.2.0.tar.gz (564 kB)\n",
            "\u001b[2K     \u001b[90m━━━━━━━━━━━━━━━━━━━━━━━━━━━━━━━━━━━━━━\u001b[0m \u001b[32m565.0/565.0 KB\u001b[0m \u001b[31m26.3 MB/s\u001b[0m eta \u001b[36m0:00:00\u001b[0m\n",
            "\u001b[?25h  Preparing metadata (setup.py) ... \u001b[?25l\u001b[?25hdone\n",
            "Requirement already satisfied: tqdm in /usr/local/lib/python3.8/dist-packages (from torch-geometric) (4.64.1)\n",
            "Requirement already satisfied: numpy in /usr/local/lib/python3.8/dist-packages (from torch-geometric) (1.21.6)\n",
            "Requirement already satisfied: scipy in /usr/local/lib/python3.8/dist-packages (from torch-geometric) (1.7.3)\n",
            "Requirement already satisfied: jinja2 in /usr/local/lib/python3.8/dist-packages (from torch-geometric) (2.11.3)\n",
            "Requirement already satisfied: requests in /usr/local/lib/python3.8/dist-packages (from torch-geometric) (2.25.1)\n",
            "Requirement already satisfied: pyparsing in /usr/local/lib/python3.8/dist-packages (from torch-geometric) (3.0.9)\n",
            "Requirement already satisfied: scikit-learn in /usr/local/lib/python3.8/dist-packages (from torch-geometric) (1.0.2)\n",
            "Requirement already satisfied: psutil>=5.8.0 in /usr/local/lib/python3.8/dist-packages (from torch-geometric) (5.9.4)\n",
            "Requirement already satisfied: MarkupSafe>=0.23 in /usr/local/lib/python3.8/dist-packages (from jinja2->torch-geometric) (2.0.1)\n",
            "Requirement already satisfied: chardet<5,>=3.0.2 in /usr/local/lib/python3.8/dist-packages (from requests->torch-geometric) (4.0.0)\n",
            "Requirement already satisfied: certifi>=2017.4.17 in /usr/local/lib/python3.8/dist-packages (from requests->torch-geometric) (2022.12.7)\n",
            "Requirement already satisfied: urllib3<1.27,>=1.21.1 in /usr/local/lib/python3.8/dist-packages (from requests->torch-geometric) (1.24.3)\n",
            "Requirement already satisfied: idna<3,>=2.5 in /usr/local/lib/python3.8/dist-packages (from requests->torch-geometric) (2.10)\n",
            "Requirement already satisfied: joblib>=0.11 in /usr/local/lib/python3.8/dist-packages (from scikit-learn->torch-geometric) (1.2.0)\n",
            "Requirement already satisfied: threadpoolctl>=2.0.0 in /usr/local/lib/python3.8/dist-packages (from scikit-learn->torch-geometric) (3.1.0)\n",
            "Building wheels for collected packages: torch-geometric\n",
            "  Building wheel for torch-geometric (setup.py) ... \u001b[?25l\u001b[?25hdone\n",
            "  Created wheel for torch-geometric: filename=torch_geometric-2.2.0-py3-none-any.whl size=773302 sha256=40a1a4cc7f993d8ff7191b6bd213c81cb94f34c044a5d89c879a740bbfd77824\n",
            "  Stored in directory: /root/.cache/pip/wheels/59/a3/20/198928106d3169865ae73afcbd3d3d1796cf6b429b55c65378\n",
            "Successfully built torch-geometric\n",
            "Installing collected packages: torch-geometric\n",
            "Successfully installed torch-geometric-2.2.0\n",
            "Looking in indexes: https://pypi.org/simple, https://us-python.pkg.dev/colab-wheels/public/simple/\n",
            "Requirement already satisfied: gdown in /usr/local/lib/python3.8/dist-packages (4.4.0)\n",
            "Requirement already satisfied: requests[socks] in /usr/local/lib/python3.8/dist-packages (from gdown) (2.25.1)\n",
            "Requirement already satisfied: beautifulsoup4 in /usr/local/lib/python3.8/dist-packages (from gdown) (4.6.3)\n",
            "Requirement already satisfied: six in /usr/local/lib/python3.8/dist-packages (from gdown) (1.15.0)\n",
            "Requirement already satisfied: tqdm in /usr/local/lib/python3.8/dist-packages (from gdown) (4.64.1)\n",
            "Requirement already satisfied: filelock in /usr/local/lib/python3.8/dist-packages (from gdown) (3.9.0)\n",
            "Requirement already satisfied: certifi>=2017.4.17 in /usr/local/lib/python3.8/dist-packages (from requests[socks]->gdown) (2022.12.7)\n",
            "Requirement already satisfied: chardet<5,>=3.0.2 in /usr/local/lib/python3.8/dist-packages (from requests[socks]->gdown) (4.0.0)\n",
            "Requirement already satisfied: idna<3,>=2.5 in /usr/local/lib/python3.8/dist-packages (from requests[socks]->gdown) (2.10)\n",
            "Requirement already satisfied: urllib3<1.27,>=1.21.1 in /usr/local/lib/python3.8/dist-packages (from requests[socks]->gdown) (1.24.3)\n",
            "Requirement already satisfied: PySocks!=1.5.7,>=1.5.6 in /usr/local/lib/python3.8/dist-packages (from requests[socks]->gdown) (1.7.1)\n"
          ]
        }
      ],
      "source": [
        "\n",
        "!pip install imageio==2.22.4\n",
        "!pip install llvmlite==0.39.1\n",
        "# !pip install matplotlib==3.6.2\n",
        "!pip install matplotlib==3.1.3\n",
        "!pip install networkx==2.8.8\n",
        "!pip install numba==0.56.4\n",
        "!pip install numpy\n",
        "!pip install opencv-python==4.6.0.66\n",
        "!pip install psutil==5.9.4\n",
        "!pip install pytz==2022.6\n",
        "!pip install scikit-image==0.19.3\n",
        "!pip install scipy \n",
        "!pip install timm==0.6.12\n",
        "!pip install torch==1.13.0\n",
        "!pip install torchinfo==1.7.1\n",
        "!pip install torchvision==0.14.0\n",
        "# tqdm @ file:///opt/conda/conda-bld/tqdm_1647339053476/work\n",
        "import torch\n",
        "\n",
        "def format_pytorch_version(version):\n",
        "  return version.split('+')[0]\n",
        "\n",
        "TORCH_version = torch.__version__\n",
        "TORCH = format_pytorch_version(TORCH_version)\n",
        "\n",
        "def format_cuda_version(version):\n",
        "  return 'cu' + version.replace('.', '')\n",
        "\n",
        "CUDA_version = torch.version.cuda\n",
        "CUDA = format_cuda_version(CUDA_version)\n",
        "\n",
        "!pip install torch-scatter     -f https://pytorch-geometric.com/whl/torch-{TORCH}+{CUDA}.html\n",
        "!pip install torch-sparse      -f https://pytorch-geometric.com/whl/torch-{TORCH}+{CUDA}.html\n",
        "!pip install torch-cluster     -f https://pytorch-geometric.com/whl/torch-{TORCH}+{CUDA}.html\n",
        "!pip install torch-spline-conv -f https://pytorch-geometric.com/whl/torch-{TORCH}+{CUDA}.html\n",
        "!pip install torch-geometric \n",
        "!pip install gdown"
      ]
    },
    {
      "cell_type": "code",
      "source": [
        "from torch_geometric.data import Data\n",
        "from torch_geometric.utils import erdos_renyi_graph, to_networkx, from_networkx\n",
        "from torch_geometric.loader import DataLoader\n",
        "import os\n",
        "from sklearn.model_selection import KFold\n",
        "import networkx as nx\n",
        "import matplotlib.pyplot as plt\n",
        "import torch\n",
        "from torch.nn import Sequential as Seq, Linear, ReLU\n",
        "from torch_geometric.nn import MessagePassing\n",
        "from torch_geometric.utils import remove_self_loops, add_self_loops\n",
        "from torch_geometric.nn import GraphConv, TopKPooling, GatedGraphConv, JumpingKnowledge\n",
        "from torch_geometric.nn import global_mean_pool as gap, global_max_pool as gmp\n",
        "import torch.nn.functional as F\n",
        "from sklearn.metrics import roc_auc_score\n",
        "import numpy as np\n",
        "from torch_geometric.nn import MLP, DynamicEdgeConv, global_max_pool\n",
        "# import torch.nn.functional as F\n",
        "from sklearn.metrics import confusion_matrix\n",
        "from sklearn.metrics import accuracy_score\n",
        "from torch.utils.data import Dataset,TensorDataset,random_split,SubsetRandomSampler, ConcatDataset\n",
        "import pickle\n",
        "import torch_geometric.transforms as T\n",
        "from torch_geometric.datasets import Planetoid\n",
        "# from torch_geometric.logging import init_wandb, log\n",
        "from torch_geometric.nn import GCNConv\n",
        "import random\n",
        "from torch.nn import Linear, ReLU, Dropout\n",
        "from torch_geometric.nn import Sequential, GCNConv, JumpingKnowledge\n",
        "from torch_geometric.nn import global_mean_pool\n",
        "import torch.nn as nn\n",
        "from itertools import zip_longest\n",
        "# from torch.nn import Linear\n",
        "# import torch.nn.functional as F\n",
        "# from torch_geometric.nn import GCNConv\n",
        "# from torch_geometric.nn import global_mean_pool"
      ],
      "metadata": {
        "id": "pcJvDhVKF-VY"
      },
      "execution_count": null,
      "outputs": []
    },
    {
      "cell_type": "code",
      "source": [
        "!curl -o train_dataloader.pkl -L 'https://drive.google.com/uc?export=download&confirm=yes&id=1luFl1j_zf07eD_CHrpprXPz1udCIhjUU'\n",
        "!curl -o test_dataloader.pkl -L 'https://drive.google.com/uc?export=download&confirm=yes&id=115kJ5EzpCL7TXLKUotJXuK6ngwcyC84E'\n",
        "!curl -o val_dataloader.pkl -L 'https://drive.google.com/uc?export=download&confirm=yes&id=1SlQqiqT6vAlotmT9xc5PMQdeFLTh_PUa'"
      ],
      "metadata": {
        "id": "lPbfNtU3J2M_",
        "colab": {
          "base_uri": "https://localhost:8080/"
        },
        "outputId": "ef3e4140-5800-4198-ac5d-cc17843ddc63"
      },
      "execution_count": null,
      "outputs": [
        {
          "output_type": "stream",
          "name": "stdout",
          "text": [
            "  % Total    % Received % Xferd  Average Speed   Time    Time     Time  Current\n",
            "                                 Dload  Upload   Total   Spent    Left  Speed\n",
            "  0     0    0     0    0     0      0      0 --:--:-- --:--:-- --:--:--     0\n",
            "100  109M  100  109M    0     0  28.1M      0  0:00:03  0:00:03 --:--:-- 32.5M\n",
            "  % Total    % Received % Xferd  Average Speed   Time    Time     Time  Current\n",
            "                                 Dload  Upload   Total   Spent    Left  Speed\n",
            "  0     0    0     0    0     0      0      0 --:--:--  0:00:04 --:--:--     0\n",
            "100 13.0M  100 13.0M    0     0  3019k      0  0:00:04  0:00:04 --:--:--  187M\n",
            "  % Total    % Received % Xferd  Average Speed   Time    Time     Time  Current\n",
            "                                 Dload  Upload   Total   Spent    Left  Speed\n",
            "  0     0    0     0    0     0      0      0 --:--:-- --:--:-- --:--:--     0\n",
            "100  344k  100  344k    0     0   586k      0 --:--:-- --:--:-- --:--:--  586k\n"
          ]
        }
      ]
    },
    {
      "cell_type": "code",
      "source": [
        "!du -sh * "
      ],
      "metadata": {
        "id": "u4Q7zuaqJQvm"
      },
      "execution_count": null,
      "outputs": []
    },
    {
      "cell_type": "code",
      "source": [
        "\n",
        "curretn_path = os.getcwd()\n",
        "path = f\"{curretn_path}\"\n",
        "\n",
        "embed_dim = 128\n",
        "\n",
        "def load_all_from_one_folder(path,type = 0):\n",
        "    all_files = os.listdir(path)\n",
        "    all_data = []\n",
        "    k = 0\n",
        "    for one_g in all_files:\n",
        "        name = one_g.split(\".\")[0]\n",
        "        G = nx.read_gpickle(f\"{path}/{one_g}\")  \n",
        "\n",
        "        data = from_networkx(G)\n",
        "        if type:\n",
        "            data.y = [1]\n",
        "        else:\n",
        "            data.y = [0]\n",
        "        k+= 1\n",
        "        data.x = torch.Tensor([torch.flatten(val).tolist() for val in data.x])#nx.get_node_attributes(G,'image')\n",
        "        data.name = name\n",
        "        all_data.append(data)\n",
        "    return all_data\n",
        "\n",
        "\n",
        "def permute_array(array):\n",
        "    permuted_array = []\n",
        "    for i in range(len(array)):\n",
        "        permuted_array.append(array[i])\n",
        "    return permuted_array\n",
        "\n",
        "def check_if_a_with_name_exisi(path,name):\n",
        "    all_files = os.listdir(path)\n",
        "    if name in all_files:\n",
        "        return True\n",
        "    else:\n",
        "        return False\n",
        "\n",
        "\n",
        "\n",
        "\n",
        "\n",
        "def dataloader():\n",
        "    \"\"\"\n",
        "    load train and test data\n",
        "    \"\"\"\n",
        "    print(\"loading data\")\n",
        "    train_dataset, test_dataset, val_dataset = None, None, None\n",
        "\n",
        "    if not check_if_a_with_name_exisi(curretn_path,'train_dataloader.pkl'):\n",
        "\n",
        "        train_normal = load_all_from_one_folder(f\"{path}/train/NORMAL\")\n",
        "        train_pneumonia = load_all_from_one_folder(f\"{path}/train/PNEUMONIA\",1)\n",
        "\n",
        "        test_normal = load_all_from_one_folder(f\"{path}/test/NORMAL\")\n",
        "        test_pneumonia = load_all_from_one_folder(f\"{path}/test/PNEUMONIA\",1)\n",
        "\n",
        "        val_normal = load_all_from_one_folder(f\"{path}/val/NORMAL\")\n",
        "        val_pneumonia = load_all_from_one_folder(f\"{path}/val/PNEUMONIA\",1)\n",
        "\n",
        "\n",
        "        train_data_arr = train_normal + train_pneumonia\n",
        "        test_data_arr = test_normal + test_pneumonia\n",
        "        val_data_arr = val_normal + val_pneumonia\n",
        "        # all_data = permute_array(all_data)\n",
        "        random.shuffle(train_data_arr)\n",
        "        random.shuffle(test_data_arr)\n",
        "        random.shuffle(val_data_arr)\n",
        "        \n",
        "        train_dataset = train_data_arr#all_data[:int(len(all_data)*0.8)]\n",
        "        val_dataset = val_data_arr#all_data[int(len(all_data)*0.8):int(len(all_data)*0.8) + 100]\n",
        "        test_dataset = test_data_arr#all_data[int(len(all_data)*0.8):]\n",
        "        train_loader = DataLoader(train_dataset, batch_size=64, shuffle=True,drop_last=True)\n",
        "        val_loader = DataLoader(val_dataset, batch_size=len(val_dataset), shuffle=False,drop_last=True)\n",
        "        # test_loader = DataLoader(test_dataset, batch_size=32, shuffle=True,drop_last=True)\n",
        "        test_loader = DataLoader(test_dataset, batch_size=len(test_dataset), shuffle=False,drop_last=True)\n",
        "\n",
        "        with open('train_dataloader.pkl', 'wb') as f:\n",
        "            pickle.dump(train_loader, f)\n",
        "\n",
        "        with open('test_dataloader.pkl', 'wb') as f:\n",
        "            pickle.dump(test_loader, f)\n",
        "        \n",
        "        with open('val_dataloader.pkl', 'wb') as f:\n",
        "            pickle.dump(val_loader, f)\n",
        "    else:\n",
        "        with open('train_dataloader.pkl', 'rb') as f:\n",
        "            train_loader = pickle.load(f)\n",
        "\n",
        "        with open('test_dataloader.pkl', 'rb') as f:\n",
        "            test_loader = pickle.load(f)\n",
        "        \n",
        "        with open('val_dataloader.pkl', 'rb') as f:\n",
        "            val_loader = pickle.load(f)\n",
        "\n",
        "    #dataset_from_dataloader = train_loader.dataset\n",
        "    return train_loader, test_loader, train_loader.dataset, test_loader.dataset, val_loader, val_loader.dataset\n",
        "\n",
        "\n",
        "\n",
        "train_loader, test_loader, train_dataset, test_dataset, val_loader, val_dataset = dataloader()\n",
        "device = torch.device('cuda' if torch.cuda.is_available() else 'cpu')\n",
        "train_dataset = [data.to(device) for data in train_dataset]\n",
        "val_dataset = [data.to(device) for data in val_dataset]\n",
        "test_dataset = [data.to(device) for data in test_dataset]\n",
        "\n",
        "\n",
        "dataset = ConcatDataset([train_dataset, val_dataset])\n",
        "\n",
        "\n",
        "print(\"data loaded\")"
      ],
      "metadata": {
        "colab": {
          "base_uri": "https://localhost:8080/"
        },
        "id": "emKmWPHjK4Ag",
        "outputId": "9d1cc8e8-a8a7-482a-d286-67cf52fba20e"
      },
      "execution_count": null,
      "outputs": [
        {
          "output_type": "stream",
          "name": "stdout",
          "text": [
            "loading data\n",
            "data loaded\n"
          ]
        }
      ]
    },
    {
      "cell_type": "code",
      "source": [
        "class GCN(torch.nn.Module):\n",
        "    def __init__(self, hidden_channels):\n",
        "        super(GCN, self).__init__()\n",
        "        torch.manual_seed(12345)\n",
        "        self.conv1 = GCNConv(512, 256)\n",
        "        self.conv2 = GCNConv(256, 128)\n",
        "        self.conv3 = GCNConv(128,64)\n",
        "        self.conv4 = GCNConv(64, 32)\n",
        "        self.lin1 = Linear(32, 16)\n",
        "        self.lin = Linear(16, 2)\n",
        "\n",
        "    def forward(self, x, edge_index, batch):\n",
        "        x = self.conv1(x, edge_index)\n",
        "        x = x.relu()\n",
        "        x = self.conv2(x, edge_index)\n",
        "        x = x.relu()\n",
        "        x = self.conv3(x, edge_index)\n",
        "        x = x.relu()\n",
        "        x = self.conv4(x, edge_index)\n",
        "\n",
        "        x = global_mean_pool(x, batch)  \n",
        "\n",
        "        # 3. Apply a final classifier\n",
        "        x = F.dropout(x, p=0.6, training=self.training)\n",
        "        x = self.lin1(x)\n",
        "        x = x.relu()\n",
        "        x = self.lin(x)\n",
        "        \n",
        "        return x\n",
        "\n",
        "model = GCN(hidden_channels=512) # based on feature size\n",
        "model.to(device)"
      ],
      "metadata": {
        "id": "qTm7eTPJLWgO",
        "colab": {
          "base_uri": "https://localhost:8080/"
        },
        "outputId": "01f6f230-8fc1-434f-cac1-4cf7550ab74a"
      },
      "execution_count": null,
      "outputs": [
        {
          "output_type": "execute_result",
          "data": {
            "text/plain": [
              "GCN(\n",
              "  (conv1): GCNConv(512, 256)\n",
              "  (conv2): GCNConv(256, 128)\n",
              "  (conv3): GCNConv(128, 64)\n",
              "  (conv4): GCNConv(64, 32)\n",
              "  (lin1): Linear(in_features=32, out_features=16, bias=True)\n",
              "  (lin): Linear(in_features=16, out_features=2, bias=True)\n",
              ")"
            ]
          },
          "metadata": {},
          "execution_count": 5
        }
      ]
    },
    {
      "cell_type": "code",
      "source": [
        "optimizer = torch.optim.Adam(model.parameters(), lr=0.001, weight_decay = 0.001)\n",
        "criterion = torch.nn.CrossEntropyLoss()"
      ],
      "metadata": {
        "id": "FuXxeGraLoUe"
      },
      "execution_count": null,
      "outputs": []
    },
    {
      "cell_type": "code",
      "source": [
        "def train():\n",
        "    model.train()\n",
        "\n",
        "    for data in train_loader: \n",
        "        # data = data.to(device)\n",
        "        out = model(data.x, data.edge_index, data.batch) \n",
        "        data.y = torch.Tensor(data.y)\n",
        "        data.y = torch.Tensor(torch.flatten(data.y))\n",
        "        data.y = data.y.type(torch.LongTensor)\n",
        "        loss = criterion(out, data.y)\n",
        "        loss.backward()  \n",
        "        optimizer.step()\n",
        "        optimizer.zero_grad()  \n",
        "\n",
        "def test(loader):\n",
        "     model.eval()\n",
        "\n",
        "     correct = 0\n",
        "     for data in loader:  \n",
        "        #  data = data.to(device)\n",
        "         out = model(data.x, data.edge_index, data.batch)  \n",
        "         data.y = torch.Tensor(data.y)\n",
        "         pred = out.argmax(dim=1).view(-1,1)  \n",
        "         correct += int((pred.to('cpu') == data.y.to('cpu')).sum())  \n",
        "         acc = correct / len(loader.dataset)\n",
        "        #  if acc > 0.91:\n",
        "        #      torch.save(model.state_dict(), 'model_res_10sp.pt')\n",
        "     return correct / len(loader.dataset) \n",
        "\n",
        "\n",
        "\n"
      ],
      "metadata": {
        "id": "9ppE-wHALpU8"
      },
      "execution_count": null,
      "outputs": []
    },
    {
      "cell_type": "code",
      "source": [
        "def train_epoch(model,device,dataloader,loss_fn,optimizer):\n",
        "    train_loss,train_correct=0.0,0\n",
        "    model.train()\n",
        "    correct = 0.0\n",
        "    ite = 0\n",
        "    for data in dataloader:\n",
        "\n",
        "        # print(data)\n",
        "        ite += 1\n",
        "        out = model(data.x, data.edge_index, data.batch) \n",
        "        data.y = torch.Tensor(data.y)\n",
        "        data.y = torch.Tensor(torch.flatten(data.y))\n",
        "        data.y = data.y.type(torch.LongTensor)\n",
        "        pred = out.argmax(dim=1).view(-1,1)\n",
        "        # cfm = confusion_matrix(data.y,pred)\n",
        "        # print(\"train\",cfm)\n",
        "        # tn, fp, fn, tp = confusion_matrix(data.y, pred).ravel()\n",
        "        # print(f\"tn: {tn}, tp: {tp}, fp : {fp}, fn : {fn}\")\n",
        "        acc = accuracy_score(data.y, pred.cpu())\n",
        "        # print(\"accuracy train :\",acc)\n",
        "        loss = criterion(out.to(device), data.y.to(device))\n",
        "        loss.backward()  \n",
        "        train_loss+=loss\n",
        "        optimizer.step()\n",
        "        optimizer.zero_grad() \n",
        "        # train_correct += int((pred.to(device) == data.y).sum()) \n",
        "        correct += acc\n",
        "\n",
        "\n",
        "\n",
        "    return train_loss.item()/ite,correct/ite\n",
        "  \n",
        "def valid_epoch(model,device,dataloader,loss_fn):\n",
        "    valid_loss, val_correct = 0.0, 0\n",
        "    model.eval()\n",
        "    ite = 0\n",
        "    for data in dataloader:\n",
        "        ite += 1\n",
        "        out = model(data.x, data.edge_index, data.batch) \n",
        "        data.y = torch.Tensor(data.y)\n",
        "        data.y = torch.Tensor(torch.flatten(data.y))\n",
        "        data.y = data.y.type(torch.LongTensor)\n",
        "        pred = out.argmax(dim=1).view(-1,1)\n",
        "        # cfm = confusion_matrix(data.y,pred)\n",
        "        # print(cfm)\n",
        "        acc = accuracy_score(data.y, pred.cpu())\n",
        "        loss = criterion(out.to(device), data.y.to(device))\n",
        "        loss.backward() \n",
        "        valid_loss+=loss\n",
        "        optimizer.step()\n",
        "        optimizer.zero_grad() \n",
        "        val_correct += acc #int((pred == data.y).sum()) \n",
        "\n",
        "    return valid_loss.item()/ite,val_correct/ite  \n"
      ],
      "metadata": {
        "id": "Hgwap2E87Cbh"
      },
      "execution_count": null,
      "outputs": []
    },
    {
      "cell_type": "code",
      "source": [
        "\n",
        "splits=KFold(n_splits=5,shuffle=True,random_state=42)\n",
        "splits"
      ],
      "metadata": {
        "colab": {
          "base_uri": "https://localhost:8080/"
        },
        "id": "7XjjBKB-7gjG",
        "outputId": "77ef69b8-c347-4a76-fcec-cead92b2eced"
      },
      "execution_count": null,
      "outputs": [
        {
          "output_type": "execute_result",
          "data": {
            "text/plain": [
              "KFold(n_splits=5, random_state=42, shuffle=True)"
            ]
          },
          "metadata": {},
          "execution_count": 9
        }
      ]
    },
    {
      "cell_type": "code",
      "source": [
        "history = {'train_loss': [], 'val_loss': [],'train_acc':[],'val_acc':[]}\n",
        "\n",
        "for fold, (train_idx,val_idx) in enumerate(splits.split(np.arange(len(dataset)))):\n",
        "\n",
        "    print('Fold {}'.format(fold + 1))\n",
        "    print(len(train_idx),len(val_idx))\n",
        "\n",
        "    train_sampler = SubsetRandomSampler(train_idx)\n",
        "    val_sampler = SubsetRandomSampler(val_idx)\n",
        "    train_loader = DataLoader(dataset, batch_size=64, sampler=train_sampler)\n",
        "    val_loader = DataLoader(dataset, batch_size=64, sampler=val_sampler)\n",
        "    \n",
        "\n",
        "    for epoch in range(10):\n",
        "        train_loss, train_correct=train_epoch(model,device,train_loader,criterion,optimizer)\n",
        "        test_loss, test_correct=valid_epoch(model,device,val_loader,criterion)\n",
        "\n",
        "        train_loss = train_loss \n",
        "        train_acc = train_correct \n",
        "        test_loss = test_loss \n",
        "        test_acc = test_correct \n",
        "        print(\"Epoch:{}/{} AVG Training Loss:{:.3f} AVG Val Loss:{:.3f} AVG Training Acc {:.4f} % AVG Val Acc {:.4f} %\".format(epoch + 1,\n",
        "                                                                                                             10,\n",
        "                                                                                                             train_loss,\n",
        "                                                                                                             test_loss,\n",
        "                                                                                                             train_acc,\n",
        "                                                                                                             test_acc))\n",
        "        history['train_loss'].append(train_loss)\n",
        "        history['val_loss'].append(test_loss)\n",
        "        history['train_acc'].append(train_acc)\n",
        "        history['val_acc'].append(test_acc)"
      ],
      "metadata": {
        "colab": {
          "base_uri": "https://localhost:8080/"
        },
        "id": "ZO6X7ald7VDa",
        "outputId": "358745ec-d5ca-45d0-eca2-d0d3ae889760"
      },
      "execution_count": null,
      "outputs": [
        {
          "output_type": "stream",
          "name": "stdout",
          "text": [
            "Fold 1\n",
            "4185 1047\n",
            "Epoch:1/10 AVG Training Loss:0.067 AVG Val Loss:0.075 AVG Training Acc 0.9760 % AVG Val Acc 0.9715 %\n",
            "Epoch:2/10 AVG Training Loss:0.057 AVG Val Loss:0.054 AVG Training Acc 0.9813 % AVG Val Acc 0.9871 %\n",
            "Epoch:3/10 AVG Training Loss:0.073 AVG Val Loss:0.067 AVG Training Acc 0.9709 % AVG Val Acc 0.9772 %\n",
            "Epoch:4/10 AVG Training Loss:0.055 AVG Val Loss:0.075 AVG Training Acc 0.9811 % AVG Val Acc 0.9715 %\n",
            "Epoch:5/10 AVG Training Loss:0.067 AVG Val Loss:0.068 AVG Training Acc 0.9742 % AVG Val Acc 0.9752 %\n",
            "Epoch:6/10 AVG Training Loss:0.052 AVG Val Loss:0.057 AVG Training Acc 0.9822 % AVG Val Acc 0.9791 %\n",
            "Epoch:7/10 AVG Training Loss:0.057 AVG Val Loss:0.049 AVG Training Acc 0.9792 % AVG Val Acc 0.9844 %\n",
            "Epoch:8/10 AVG Training Loss:0.050 AVG Val Loss:0.109 AVG Training Acc 0.9818 % AVG Val Acc 0.9632 %\n",
            "Epoch:9/10 AVG Training Loss:0.066 AVG Val Loss:0.062 AVG Training Acc 0.9759 % AVG Val Acc 0.9781 %\n",
            "Epoch:10/10 AVG Training Loss:0.050 AVG Val Loss:0.083 AVG Training Acc 0.9814 % AVG Val Acc 0.9688 %\n",
            "Fold 2\n",
            "4185 1047\n",
            "Epoch:1/10 AVG Training Loss:0.049 AVG Val Loss:0.092 AVG Training Acc 0.9860 % AVG Val Acc 0.9614 %\n",
            "Epoch:2/10 AVG Training Loss:0.058 AVG Val Loss:0.038 AVG Training Acc 0.9803 % AVG Val Acc 0.9864 %\n",
            "Epoch:3/10 AVG Training Loss:0.049 AVG Val Loss:0.034 AVG Training Acc 0.9827 % AVG Val Acc 0.9871 %\n",
            "Epoch:4/10 AVG Training Loss:0.047 AVG Val Loss:0.040 AVG Training Acc 0.9837 % AVG Val Acc 0.9853 %\n",
            "Epoch:5/10 AVG Training Loss:0.052 AVG Val Loss:0.045 AVG Training Acc 0.9815 % AVG Val Acc 0.9800 %\n",
            "Epoch:6/10 AVG Training Loss:0.047 AVG Val Loss:0.046 AVG Training Acc 0.9846 % AVG Val Acc 0.9816 %\n",
            "Epoch:7/10 AVG Training Loss:0.065 AVG Val Loss:0.033 AVG Training Acc 0.9787 % AVG Val Acc 0.9899 %\n",
            "Epoch:8/10 AVG Training Loss:0.059 AVG Val Loss:0.029 AVG Training Acc 0.9782 % AVG Val Acc 0.9883 %\n",
            "Epoch:9/10 AVG Training Loss:0.046 AVG Val Loss:0.034 AVG Training Acc 0.9844 % AVG Val Acc 0.9827 %\n",
            "Epoch:10/10 AVG Training Loss:0.057 AVG Val Loss:0.032 AVG Training Acc 0.9781 % AVG Val Acc 0.9853 %\n",
            "Fold 3\n",
            "4186 1046\n",
            "Epoch:1/10 AVG Training Loss:0.039 AVG Val Loss:0.031 AVG Training Acc 0.9862 % AVG Val Acc 0.9890 %\n",
            "Epoch:2/10 AVG Training Loss:0.042 AVG Val Loss:0.042 AVG Training Acc 0.9870 % AVG Val Acc 0.9807 %\n",
            "Epoch:3/10 AVG Training Loss:0.061 AVG Val Loss:0.038 AVG Training Acc 0.9773 % AVG Val Acc 0.9835 %\n",
            "Epoch:4/10 AVG Training Loss:0.050 AVG Val Loss:0.036 AVG Training Acc 0.9845 % AVG Val Acc 0.9854 %\n",
            "Epoch:5/10 AVG Training Loss:0.041 AVG Val Loss:0.057 AVG Training Acc 0.9848 % AVG Val Acc 0.9807 %\n",
            "Epoch:6/10 AVG Training Loss:0.037 AVG Val Loss:0.042 AVG Training Acc 0.9882 % AVG Val Acc 0.9835 %\n",
            "Epoch:7/10 AVG Training Loss:0.051 AVG Val Loss:0.088 AVG Training Acc 0.9819 % AVG Val Acc 0.9697 %\n",
            "Epoch:8/10 AVG Training Loss:0.052 AVG Val Loss:0.029 AVG Training Acc 0.9812 % AVG Val Acc 0.9899 %\n",
            "Epoch:9/10 AVG Training Loss:0.038 AVG Val Loss:0.026 AVG Training Acc 0.9872 % AVG Val Acc 0.9936 %\n",
            "Epoch:10/10 AVG Training Loss:0.032 AVG Val Loss:0.027 AVG Training Acc 0.9901 % AVG Val Acc 0.9917 %\n",
            "Fold 4\n",
            "4186 1046\n",
            "Epoch:1/10 AVG Training Loss:0.069 AVG Val Loss:0.059 AVG Training Acc 0.9750 % AVG Val Acc 0.9771 %\n",
            "Epoch:2/10 AVG Training Loss:0.046 AVG Val Loss:0.054 AVG Training Acc 0.9837 % AVG Val Acc 0.9771 %\n",
            "Epoch:3/10 AVG Training Loss:0.043 AVG Val Loss:0.051 AVG Training Acc 0.9846 % AVG Val Acc 0.9807 %\n",
            "Epoch:4/10 AVG Training Loss:0.034 AVG Val Loss:0.105 AVG Training Acc 0.9879 % AVG Val Acc 0.9614 %\n",
            "Epoch:5/10 AVG Training Loss:0.043 AVG Val Loss:0.039 AVG Training Acc 0.9844 % AVG Val Acc 0.9844 %\n",
            "Epoch:6/10 AVG Training Loss:0.034 AVG Val Loss:0.060 AVG Training Acc 0.9879 % AVG Val Acc 0.9789 %\n",
            "Epoch:7/10 AVG Training Loss:0.030 AVG Val Loss:0.039 AVG Training Acc 0.9907 % AVG Val Acc 0.9817 %\n",
            "Epoch:8/10 AVG Training Loss:0.049 AVG Val Loss:0.029 AVG Training Acc 0.9833 % AVG Val Acc 0.9899 %\n",
            "Epoch:9/10 AVG Training Loss:0.033 AVG Val Loss:0.032 AVG Training Acc 0.9879 % AVG Val Acc 0.9854 %\n",
            "Epoch:10/10 AVG Training Loss:0.031 AVG Val Loss:0.048 AVG Training Acc 0.9886 % AVG Val Acc 0.9844 %\n",
            "Fold 5\n",
            "4186 1046\n",
            "Epoch:1/10 AVG Training Loss:0.028 AVG Val Loss:0.017 AVG Training Acc 0.9896 % AVG Val Acc 0.9963 %\n",
            "Epoch:2/10 AVG Training Loss:0.026 AVG Val Loss:0.033 AVG Training Acc 0.9920 % AVG Val Acc 0.9871 %\n",
            "Epoch:3/10 AVG Training Loss:0.038 AVG Val Loss:0.022 AVG Training Acc 0.9862 % AVG Val Acc 0.9936 %\n",
            "Epoch:4/10 AVG Training Loss:0.026 AVG Val Loss:0.035 AVG Training Acc 0.9915 % AVG Val Acc 0.9872 %\n",
            "Epoch:5/10 AVG Training Loss:0.055 AVG Val Loss:0.053 AVG Training Acc 0.9804 % AVG Val Acc 0.9789 %\n",
            "Epoch:6/10 AVG Training Loss:0.031 AVG Val Loss:0.026 AVG Training Acc 0.9903 % AVG Val Acc 0.9891 %\n",
            "Epoch:7/10 AVG Training Loss:0.025 AVG Val Loss:0.013 AVG Training Acc 0.9927 % AVG Val Acc 0.9963 %\n",
            "Epoch:8/10 AVG Training Loss:0.038 AVG Val Loss:0.029 AVG Training Acc 0.9865 % AVG Val Acc 0.9881 %\n",
            "Epoch:9/10 AVG Training Loss:0.044 AVG Val Loss:0.027 AVG Training Acc 0.9840 % AVG Val Acc 0.9918 %\n",
            "Epoch:10/10 AVG Training Loss:0.024 AVG Val Loss:0.010 AVG Training Acc 0.9912 % AVG Val Acc 0.9963 %\n"
          ]
        }
      ]
    },
    {
      "cell_type": "code",
      "source": [
        "avg_train_loss = np.mean(history['train_loss'])\n",
        "avg_test_loss = np.mean(history['val_loss'])\n",
        "avg_train_acc = np.mean(history['train_acc'])\n",
        "avg_test_acc = np.mean(history['val_acc'])\n",
        "\n",
        "print('Performance of {} fold cross validation'.format(5))\n",
        "print(\"Average Training Loss: {:.4f} \\t Average Val Loss: {:.4f} \\t Average Training Acc: {:.4f} \\t Average VAl Acc: {:.4f}\".format(avg_train_loss,avg_test_loss,avg_train_acc,avg_test_acc))  "
      ],
      "metadata": {
        "colab": {
          "base_uri": "https://localhost:8080/"
        },
        "id": "efHEwsCIRHoG",
        "outputId": "061e233b-da0f-42cf-8391-767b443f89ce"
      },
      "execution_count": null,
      "outputs": [
        {
          "output_type": "stream",
          "name": "stdout",
          "text": [
            "Performance of 5 fold cross validation\n",
            "Average Training Loss: 0.0462 \t Average Val Loss: 0.0464 \t Average Training Acc: 0.9838 \t Average VAl Acc: 0.9828\n"
          ]
        }
      ]
    },
    {
      "cell_type": "code",
      "source": [
        "chunks = [list(chunk) for chunk in zip_longest(*[iter(history['train_acc'])]*(len(history['train_acc'])//5))]\n",
        "history['train_acc'] = np.divide(np.sum(chunks,axis=0),5)\n",
        "\n",
        "chunks = [list(chunk) for chunk in zip_longest(*[iter(history['val_acc'])]*(len(history['val_acc'])//5))]\n",
        "history['val_acc'] = np.divide(np.sum(chunks,axis=0),5)\n",
        "\n",
        "chunks = [list(chunk) for chunk in zip_longest(*[iter(history['train_loss'])]*(len(history['train_loss'])//5))]\n",
        "history['train_loss'] = np.divide(np.sum(chunks,axis=0),5)\n",
        "\n",
        "chunks = [list(chunk) for chunk in zip_longest(*[iter(history['val_loss'])]*(len(history['val_loss'])//5))]\n",
        "history['val_loss'] = np.divide(np.sum(chunks,axis=0),5)"
      ],
      "metadata": {
        "id": "8PfapYaJlkpV"
      },
      "execution_count": null,
      "outputs": []
    },
    {
      "cell_type": "code",
      "source": [
        "plt.plot(history['train_acc'])\n",
        "plt.plot(history['val_acc'])\n",
        "plt.title('Model accuracy')\n",
        "plt.ylabel('Accuracy')\n",
        "plt.xlabel('Epoch')\n",
        "plt.legend(['Train', 'Val'], loc='upper left')\n",
        "plt.show()\n",
        "\n",
        "\n",
        "plt.plot(history['train_loss'])\n",
        "plt.plot(history['val_loss'])\n",
        "plt.title('Model loss')\n",
        "plt.ylabel('Loss')\n",
        "plt.xlabel('Epoch')\n",
        "plt.legend(['Train', 'Val'], loc='upper left')\n",
        "plt.show()"
      ],
      "metadata": {
        "colab": {
          "base_uri": "https://localhost:8080/",
          "height": 573
        },
        "id": "DvtgSZHzioDl",
        "outputId": "2aaab450-8860-4b14-8932-9cc850d424fa"
      },
      "execution_count": null,
      "outputs": [
        {
          "output_type": "display_data",
          "data": {
            "text/plain": [
              "<Figure size 432x288 with 1 Axes>"
            ],
            "image/png": "[encoded data removed]"
          },
          "metadata": {
            "needs_background": "light"
          }
        },
        {
          "output_type": "display_data",
          "data": {
            "text/plain": [
              "<Figure size 432x288 with 1 Axes>"
            ],
            "image/png": "[encoded data removed]"
          },
          "metadata": {
            "needs_background": "light"
          }
        }
      ]
    },
    {
      "cell_type": "code",
      "source": [
        "test_acc = test(test_loader)\n",
        "print(f'Test Acc: {test_acc:.4f}')\n",
        "print(\"number of paramteres for this model\",sum(p.numel() for p in model.parameters()))"
      ],
      "metadata": {
        "colab": {
          "base_uri": "https://localhost:8080/"
        },
        "id": "GkJRDvCXL6G1",
        "outputId": "89803f62-1185-4cfd-ff2a-5df8afe55354"
      },
      "execution_count": null,
      "outputs": [
        {
          "output_type": "stream",
          "name": "stdout",
          "text": [
            "Test Acc: 0.8269\n",
            "number of paramteres for this model 175122\n"
          ]
        }
      ]
    },
    {
      "cell_type": "code",
      "source": [
        "history = {'train_loss': [], 'test_loss': [],'train_acc':[],'test_acc':[]}\n",
        "\n",
        "\n",
        "train_loader = train_loader\n",
        "test_loader = test_loader\n",
        "    \n",
        "\n",
        "for epoch in range(20):\n",
        "    train_loss, train_correct=train_epoch(model,device,train_loader,criterion,optimizer)\n",
        "    test_loss, test_correct=valid_epoch(model,device,test_loader,criterion)\n",
        "\n",
        "    train_loss = train_loss \n",
        "    train_acc = train_correct \n",
        "    test_loss = test_loss \n",
        "    test_acc = test_correct \n",
        "    print(\"Epoch:{}/{} AVG Training Loss:{:.3f} AVG Test Loss:{:.3f} AVG Training Acc {:.4f} % AVG Test Acc {:.4f} %\".format(epoch + 1,\n",
        "                                                                                                            10,\n",
        "                                                                                                            train_loss,\n",
        "                                                                                                            test_loss,\n",
        "                                                                                                            train_acc,\n",
        "                                                                                                            test_acc))\n",
        "    history['train_loss'].append(train_loss)\n",
        "    history['test_loss'].append(test_loss)\n",
        "    history['train_acc'].append(train_acc)\n",
        "    history['test_acc'].append(test_acc)"
      ],
      "metadata": {
        "colab": {
          "base_uri": "https://localhost:8080/"
        },
        "id": "Rg1s2Vyzvo5v",
        "outputId": "5e4bd4f0-f96b-4465-c256-b55cc804da85"
      },
      "execution_count": null,
      "outputs": [
        {
          "output_type": "stream",
          "name": "stdout",
          "text": [
            "Epoch:1/10 AVG Training Loss:0.021 AVG Test Loss:0.799 AVG Training Acc 0.9948 % AVG Test Acc 0.8429 %\n",
            "Epoch:2/10 AVG Training Loss:0.094 AVG Test Loss:1.360 AVG Training Acc 0.9669 % AVG Test Acc 0.7500 %\n",
            "Epoch:3/10 AVG Training Loss:0.082 AVG Test Loss:0.341 AVG Training Acc 0.9697 % AVG Test Acc 0.9022 %\n",
            "Epoch:4/10 AVG Training Loss:0.041 AVG Test Loss:1.080 AVG Training Acc 0.9870 % AVG Test Acc 0.7628 %\n",
            "Epoch:5/10 AVG Training Loss:0.070 AVG Test Loss:0.577 AVG Training Acc 0.9747 % AVG Test Acc 0.8429 %\n",
            "Epoch:6/10 AVG Training Loss:0.046 AVG Test Loss:0.864 AVG Training Acc 0.9863 % AVG Test Acc 0.8061 %\n",
            "Epoch:7/10 AVG Training Loss:0.045 AVG Test Loss:0.715 AVG Training Acc 0.9841 % AVG Test Acc 0.8141 %\n",
            "Epoch:8/10 AVG Training Loss:0.049 AVG Test Loss:0.482 AVG Training Acc 0.9838 % AVG Test Acc 0.8702 %\n",
            "Epoch:9/10 AVG Training Loss:0.033 AVG Test Loss:0.444 AVG Training Acc 0.9893 % AVG Test Acc 0.8814 %\n",
            "Epoch:10/10 AVG Training Loss:0.039 AVG Test Loss:0.625 AVG Training Acc 0.9852 % AVG Test Acc 0.8478 %\n",
            "Epoch:11/10 AVG Training Loss:0.039 AVG Test Loss:0.479 AVG Training Acc 0.9875 % AVG Test Acc 0.8702 %\n",
            "Epoch:12/10 AVG Training Loss:0.054 AVG Test Loss:0.857 AVG Training Acc 0.9843 % AVG Test Acc 0.8285 %\n",
            "Epoch:13/10 AVG Training Loss:0.042 AVG Test Loss:0.548 AVG Training Acc 0.9877 % AVG Test Acc 0.8574 %\n",
            "Epoch:14/10 AVG Training Loss:0.041 AVG Test Loss:0.808 AVG Training Acc 0.9862 % AVG Test Acc 0.8045 %\n",
            "Epoch:15/10 AVG Training Loss:0.078 AVG Test Loss:0.850 AVG Training Acc 0.9730 % AVG Test Acc 0.7917 %\n",
            "Epoch:16/10 AVG Training Loss:0.052 AVG Test Loss:0.659 AVG Training Acc 0.9811 % AVG Test Acc 0.8365 %\n",
            "Epoch:17/10 AVG Training Loss:0.042 AVG Test Loss:0.724 AVG Training Acc 0.9870 % AVG Test Acc 0.8045 %\n",
            "Epoch:18/10 AVG Training Loss:0.051 AVG Test Loss:0.500 AVG Training Acc 0.9808 % AVG Test Acc 0.8542 %\n",
            "Epoch:19/10 AVG Training Loss:0.066 AVG Test Loss:1.043 AVG Training Acc 0.9750 % AVG Test Acc 0.7324 %\n",
            "Epoch:20/10 AVG Training Loss:0.047 AVG Test Loss:0.377 AVG Training Acc 0.9858 % AVG Test Acc 0.8862 %\n"
          ]
        }
      ]
    },
    {
      "cell_type": "code",
      "source": [
        "plt.plot(history['train_acc'])\n",
        "plt.plot(history['test_acc'])\n",
        "plt.title('Model accuracy')\n",
        "plt.ylabel('Accuracy')\n",
        "plt.xlabel('Epoch')\n",
        "plt.legend(['Train', 'Test'], loc='upper left')\n",
        "plt.show()\n",
        "\n",
        "\n",
        "plt.plot(history['train_loss'])\n",
        "plt.plot(history['test_loss'])\n",
        "plt.title('Model loss')\n",
        "plt.ylabel('Loss')\n",
        "plt.xlabel('Epoch')\n",
        "plt.legend(['Train', 'Test'], loc='upper left')\n",
        "plt.show()"
      ],
      "metadata": {
        "colab": {
          "base_uri": "https://localhost:8080/",
          "height": 573
        },
        "id": "7nMaTJ7KwROR",
        "outputId": "5b2bb28c-6ae1-4752-e8e5-88879e277b19"
      },
      "execution_count": null,
      "outputs": [
        {
          "output_type": "display_data",
          "data": {
            "text/plain": [
              "<Figure size 432x288 with 1 Axes>"
            ],
            "image/png": "[encoded data removed]"
          },
          "metadata": {
            "needs_background": "light"
          }
        },
        {
          "output_type": "display_data",
          "data": {
            "text/plain": [
              "<Figure size 432x288 with 1 Axes>"
            ],
            "image/png": "[encoded data removed]"
          },
          "metadata": {
            "needs_background": "light"
          }
        }
      ]
    }
  ]
}